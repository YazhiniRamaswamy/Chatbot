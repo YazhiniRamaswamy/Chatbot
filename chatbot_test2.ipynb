{
 "cells": [
  {
   "cell_type": "code",
   "execution_count": 1,
   "metadata": {},
   "outputs": [],
   "source": [
    "import random\n",
    "import numpy as np\n",
    "import json\n",
    "\n",
    "#Pytorch\n",
    "import torch\n",
    "import torch.nn as nn\n",
    "\n",
    "#from model import NeuralNet\n",
    "#NLP \n",
    "import nltk\n",
    "#from nltk_utils import bag_of_words, tokenize\n",
    "# nltk.download('punkt')\n",
    "from nltk.stem.porter import PorterStemmer\n",
    "stemmer = PorterStemmer()"
   ]
  },
  {
   "cell_type": "markdown",
   "metadata": {},
   "source": [
    "# Natural Language Processing"
   ]
  },
  {
   "cell_type": "code",
   "execution_count": 405,
   "metadata": {},
   "outputs": [],
   "source": [
    "# Function to split the sentence into array of words(token). \n",
    "# this is array also can contain punctuation, number, character\n",
    "def tokenize_sentence(sentence):\n",
    "    after_tokenized = nltk.word_tokenize(sentence)\n",
    "    return after_tokenized\n",
    "\n",
    "# stemming function which is used to find the root for of the word\n",
    "def stemming(word):\n",
    "    after_stemming = stemmer.stem(word.lower())\n",
    "    return after_stemming\n",
    "\n",
    "# BagofWords function which is used to assign 1 for words in bag of words, \n",
    "# if the word from the pattarn sentence is available in the bag of words\n",
    "# and it assign zero for the remaining words in bag of words\n",
    "def bagOfWords(pattern_sentence, bagwords):\n",
    "    #stem each word from the pattern\n",
    "    pattern_words = [stemming(pattern_word) for pattern_word in pattern_sentence]\n",
    "    #first initialize all words in bag with zero\n",
    "    bag_with_binary_value = np.zeros(len(bagwords))\n",
    "    for index, bgword in enumerate(bagwords):\n",
    "        if bgword in pattern_words:\n",
    "            bag_with_binary_value[index] = 1\n",
    "    return bag_with_binary_value        "
   ]
  },
  {
   "cell_type": "code",
   "execution_count": 480,
   "metadata": {},
   "outputs": [],
   "source": [
    "with open('intents.json', 'r') as f:\n",
    "    intents = json.load(f)"
   ]
  },
  {
   "cell_type": "code",
   "execution_count": 481,
   "metadata": {
    "scrolled": true
   },
   "outputs": [
    {
     "name": "stdout",
     "output_type": "stream",
     "text": [
      "211 patterns\n",
      "37 tags: [' Store location', ' collect from store', 'Add item', 'Cancel order', 'General statement', 'Invoice', 'Mixer, wet Grinder brand', 'Mixer,wet Grinder', 'Mixer,wet Grinder Price', 'Pressure Cooker', 'Pressure Cooker brand', 'Price', 'Product Available', 'Product check', 'change delivery time', 'complaints', 'contact number', 'coupon', 'delivery', 'discount', 'expire date', 'free delivery', 'funny', 'goodbye', 'greeting', 'items', 'ok', 'outside stockholm', 'payments methods', 'request product from india', 'return product', 'shop open time', 'swish number', 'thanks', 'trouble to place order ', 'vegetables', 'website problem']\n",
      "201 unique stemmed words: [\"'s\", 'a', 'accept', 'add', 'address', 'afternoon', 'aha', 'am', 'amount', 'and', 'ani', 'anyon', 'are', 'at', 'avail', 'avil', 'back', 'bad', 'base', 'be', 'befor', 'best', 'bill', 'brand', 'bug', 'by', 'bye', 'ca', 'call', 'can', 'cancel', 'cancl', 'card', 'cash', 'charg', 'close', 'collect', 'come', 'confirm', 'contact', 'cooker', 'cost', 'could', 'coupon', 'credit', 'custom', 'date', 'day', 'defin', 'deliv', 'deliveri', 'did', 'differ', 'discount', 'do', 'doe', 'dust', 'enter', 'even', 'expect', 'expir', 'extra', 'fecil', 'for', 'free', 'from', 'funni', 'get', 'give', 'good', 'goodby', 'gothenberg', 'grinder', 'have', 'hello', 'help', 'hey', 'hi', 'hmm', 'home', 'hour', 'how', 'i', 'in', 'india', 'induct', 'invaild', 'invalid', 'invoic', 'is', 'it', 'item', 'joke', 'kind', 'kindli', 'know', 'later', 'like', 'limit', 'liter', 'live', 'locat', 'log', 'long', 'lot', 'mail', 'mani', 'mastercard', 'may', 'me', 'method', 'minimum', 'mixer', 'mixer-', 'mixer-grind', 'money', 'morn', 'much', 'my', \"n't\", 'name', 'need', 'no', 'not', 'number', 'of', 'offer', 'ok', 'on', 'onli', 'open', 'option', 'order', 'pay', 'payment', 'paypal', 'place', 'pleas', 'possibl', 'pressur', 'previou', 'price', 'procedur', 'product', 'provid', 'purchas', 'qualiti', 'quantiti', 'receiv', 'return', 'satisfi', 'see', 'sell', 'send', 'servic', 'share', 'ship', 'shop', 'should', 'site', 'slow', 'some', 'someth', 'store', 'sunday', 'suppli', 'support', 'suppos', 'swish', 'take', 'tell', 'tent', 'thank', 'that', 'the', 'there', 'thing', 'time', 'to', 'today', 'tomorrow', 'u', 'uppsala', 'veget', 'vegit', 'veri', 'want', 'we', 'wet', 'what', 'when', 'where', 'which', 'whom', 'will', 'with', 'worst', 'would', 'you', 'your', 'zipcod']\n"
     ]
    }
   ],
   "source": [
    "with open('intents.json', 'r') as f:\n",
    "    intents = json.load(f)\n",
    "all_pattern_words = []\n",
    "intents_tags = []\n",
    "tokenizedpattern_tags = []\n",
    "\n",
    "# loop each sentence in the intents patterns\n",
    "for intent in intents['intents']:\n",
    "    intent_tag = intent['tag']\n",
    "    #add the each tag to intents_tags list\n",
    "    intents_tags.append(intent_tag)\n",
    "    for pattern in intent['patterns']:\n",
    "        #tokenize the each word in the pattern sentence\n",
    "        w = tokenize_sentence(pattern)\n",
    "        # add tokenzied pattern words in all_pattern_words list\n",
    "        all_pattern_words.extend(w)\n",
    "        # words_tags contains the words and its tag\n",
    "        tokenizedpattern_tags.append((w,intent_tag))\n",
    "\n",
    "#stemming and convert the words to lower case\n",
    "punctuation_removal = ['.', '!','?',',']\n",
    "all_pattern_words = [stemming(w) for w in all_pattern_words if w not in punctuation_removal]\n",
    "# sorting the words and remove duplicate words\n",
    "all_pattern_words = sorted(set(all_pattern_words))\n",
    "intents_tags = sorted(set(intents_tags))\n",
    "\n",
    "print(len(tokenizedpattern_tags), \"patterns\")\n",
    "print(len(intents_tags), \"tags:\", intents_tags)\n",
    "print(len(all_pattern_words), \"unique stemmed words:\", all_pattern_words)\n",
    "\n",
    "# create training data\n",
    "X_train = []\n",
    "Y_train = []\n",
    "for (tokenized_pat, tag) in tokenizedpattern_tags:\n",
    "    # x_train: bag the words for each pattern\n",
    "    bag_word = bagOfWords(tokenized_pat, all_pattern_words)\n",
    "    X_train.append(bag_word)\n",
    "    # Y_train - Pytorch crossentropy wants only class lables\n",
    "    class_label = intents_tags.index(tag)\n",
    "    Y_train.append(class_label)\n",
    "    \n",
    "X_train = np.array(X_train)\n",
    "Y_train = np.array(Y_train)\n",
    "\n",
    "\n"
   ]
  },
  {
   "cell_type": "code",
   "execution_count": 482,
   "metadata": {},
   "outputs": [
    {
     "name": "stdout",
     "output_type": "stream",
     "text": [
      "201 25 37\n"
     ]
    }
   ],
   "source": [
    "# Hyper Parameters\n",
    " \n",
    "epochs = 1000\n",
    "batch_size = 15\n",
    "learning_rate = 0.001\n",
    "input_layer = len(X_train[0])\n",
    "output_layer = len(intents_tags)\n",
    "hidden_layer = round(output_layer*(2/3))\n",
    "print(input_layer,hidden_layer, output_layer)"
   ]
  },
  {
   "cell_type": "code",
   "execution_count": 483,
   "metadata": {},
   "outputs": [],
   "source": [
    "from torch.utils.data import Dataset, DataLoader"
   ]
  },
  {
   "cell_type": "code",
   "execution_count": 484,
   "metadata": {},
   "outputs": [],
   "source": [
    "class Chatdata(Dataset):\n",
    "    def __init__(self):\n",
    "        self.samples = len(X_train)\n",
    "        self.x_dataset = X_train\n",
    "        self.y_dataset = Y_train \n",
    "        \n",
    "    # indexing can be used to get i-th sample\n",
    "    def __getitem__(self, index):\n",
    "        return self.x_dataset[index], self.y_dataset[index]   \n",
    "    \n",
    "    # call len(dataset) to return the size\n",
    "    def __len__(self):\n",
    "        return self.samples\n",
    "    \n",
    "dataset = Chatdata() \n"
   ]
  },
  {
   "cell_type": "code",
   "execution_count": 485,
   "metadata": {},
   "outputs": [],
   "source": [
    "class NeuralNet(nn.Module):\n",
    "    def __init__(self, input_size, hidden_size, num_classes):\n",
    "        super(NeuralNet, self).__init__()\n",
    "        self.l1 = nn.Linear(input_size, hidden_size) \n",
    "        self.l2 = nn.Linear(hidden_size, hidden_size) \n",
    "        self.l3 = nn.Linear(hidden_size, num_classes)\n",
    "        self.relu = nn.ReLU()\n",
    "    \n",
    "    def forward(self, x):\n",
    "        out = self.l1(x)\n",
    "        out = self.relu(out)\n",
    "        out = self.l2(out)\n",
    "        out = self.relu(out)\n",
    "        out = self.l3(out)\n",
    "        # no activation and no softmax at the end\n",
    "        return out"
   ]
  },
  {
   "cell_type": "code",
   "execution_count": 486,
   "metadata": {},
   "outputs": [],
   "source": [
    "train_loader = DataLoader(dataset=dataset, batch_size=batch_size,\n",
    "                          shuffle=True, num_workers=0)\n",
    "\n",
    "device = torch.device('cuda' if torch.cuda.is_available() else 'cpu')\n",
    "\n",
    "model = NeuralNet(input_layer, hidden_layer, output_layer).to(device)"
   ]
  },
  {
   "cell_type": "code",
   "execution_count": 487,
   "metadata": {},
   "outputs": [],
   "source": [
    "# Loss and optimizer\n",
    "criterion = nn.CrossEntropyLoss()\n",
    "optimizer = torch.optim.Adam(model.parameters(), lr=learning_rate)"
   ]
  },
  {
   "cell_type": "markdown",
   "metadata": {},
   "source": [
    "# Train the model"
   ]
  },
  {
   "cell_type": "code",
   "execution_count": 488,
   "metadata": {},
   "outputs": [
    {
     "name": "stdout",
     "output_type": "stream",
     "text": [
      "Epoch [100/1000], Loss: 0.0118\n",
      "Epoch [200/1000], Loss: 0.0016\n",
      "Epoch [300/1000], Loss: 0.0003\n",
      "Epoch [400/1000], Loss: 0.0001\n",
      "Epoch [500/1000], Loss: 0.0001\n",
      "Epoch [600/1000], Loss: 0.0000\n",
      "Epoch [700/1000], Loss: 0.0001\n",
      "Epoch [800/1000], Loss: 0.0000\n",
      "Epoch [900/1000], Loss: 0.0000\n",
      "Epoch [1000/1000], Loss: 0.0000\n",
      "final loss: 0.0000\n",
      "training complete. file saved to data.pth\n"
     ]
    }
   ],
   "source": [
    "Loss_list = []\n",
    "epoch_list = []\n",
    "train_acc = []\n",
    "for epoch in range(epochs):\n",
    "    for (train_load_words, train_load_labels) in train_loader:\n",
    "        #print(\"train_load_words\",train_load_words)\n",
    "        #print(\"train_load_labels\",train_load_labels)\n",
    "        train_load_words = train_load_words.to(device)\n",
    "        train_load_labels = train_load_labels.to(dtype=torch.long).to(device)\n",
    "        \n",
    "        # Forward pass\n",
    "        targets = model(train_load_words.float())\n",
    "        # if y would be one-hot, we must apply\n",
    "        # labels = torch.max(labels, 1)[1]\n",
    "        loss = criterion(targets, train_load_labels)\n",
    "        \n",
    "        # Backward and optimize\n",
    "        optimizer.zero_grad()\n",
    "        loss.backward()\n",
    "        optimizer.step()\n",
    "        \n",
    "    if(epoch+1) % 100 ==0:\n",
    "#         tr_acc= 100.* train_load_labels * len(train_load_words[0]) / len(train_loader.dataset)\n",
    "#         train_acc.append(tr_acc)\n",
    "        print(f'Epoch [{epoch+1}/{epochs}], Loss: {loss.item():.4f}')\n",
    "        epoch_list.append(epoch+1)\n",
    "        Loss_list.append(loss.item())\n",
    "print(f'final loss: {loss.item():.4f}')\n",
    "\n",
    "data = {\n",
    "\"model_state\": model.state_dict(),\n",
    "\"input_layer\": input_layer,\n",
    "\"hidden_layer\": hidden_layer,\n",
    "\"output_layer\": output_layer,\n",
    "\"all_pattern_words\": all_pattern_words,\n",
    "\"intents_tags\": intents_tags\n",
    "}\n",
    "\n",
    "FILE = \"data.pth\"\n",
    "torch.save(data, FILE)\n",
    "\n",
    "print(f'training complete. file saved to {FILE}')        "
   ]
  },
  {
   "cell_type": "code",
   "execution_count": 489,
   "metadata": {},
   "outputs": [
    {
     "data": {
      "text/plain": [
       "[0.011783872731029987,\n",
       " 0.0016365956980735064,\n",
       " 0.0002525725867599249,\n",
       " 0.00010656742961145937,\n",
       " 7.676783570786938e-05,\n",
       " 2.074220174108632e-05,\n",
       " 9.881961887003854e-05,\n",
       " 1.9073468138230965e-06,\n",
       " 1.1920922133867862e-06,\n",
       " 7.152555099310121e-07]"
      ]
     },
     "execution_count": 489,
     "metadata": {},
     "output_type": "execute_result"
    }
   ],
   "source": [
    "Loss_list"
   ]
  },
  {
   "cell_type": "code",
   "execution_count": 465,
   "metadata": {},
   "outputs": [
    {
     "data": {
      "text/plain": [
       "[100, 200, 300, 400, 500, 600, 700, 800, 900, 1000]"
      ]
     },
     "execution_count": 465,
     "metadata": {},
     "output_type": "execute_result"
    }
   ],
   "source": [
    "epoch_list"
   ]
  },
  {
   "cell_type": "code",
   "execution_count": 490,
   "metadata": {},
   "outputs": [
    {
     "data": {
      "text/plain": [
       "Text(0, 0.5, 'Loss')"
      ]
     },
     "execution_count": 490,
     "metadata": {},
     "output_type": "execute_result"
    },
    {
     "data": {
      "image/png": "[encoded data removed]",
      "text/plain": [
       "<Figure size 432x288 with 1 Axes>"
      ]
     },
     "metadata": {
      "needs_background": "light"
     },
     "output_type": "display_data"
    }
   ],
   "source": [
    "import matplotlib.pyplot as plt\n",
    "plt.plot(epoch_list,Loss_list)\n",
    "plt.title(\"Training Loss\")\n",
    "plt.xlabel(\"Number of Epochs\")\n",
    "plt.ylabel(\"Loss\")"
   ]
  },
  {
   "cell_type": "code",
   "execution_count": 491,
   "metadata": {},
   "outputs": [
    {
     "data": {
      "text/plain": [
       "NeuralNet(\n",
       "  (l1): Linear(in_features=201, out_features=25, bias=True)\n",
       "  (l2): Linear(in_features=25, out_features=25, bias=True)\n",
       "  (l3): Linear(in_features=25, out_features=37, bias=True)\n",
       "  (relu): ReLU()\n",
       ")"
      ]
     },
     "execution_count": 491,
     "metadata": {},
     "output_type": "execute_result"
    }
   ],
   "source": [
    "FILE = \"data.pth\"\n",
    "data = torch.load(FILE)\n",
    "\n",
    "input_layer = data[\"input_layer\"]\n",
    "hidden_layer = data[\"hidden_layer\"]\n",
    "output_layer = data[\"output_layer\"]\n",
    "all_pattern_words = data['all_pattern_words']\n",
    "intents_tags = data['intents_tags']\n",
    "model_state = data[\"model_state\"]\n",
    "\n",
    "model = NeuralNet(input_layer, hidden_layer, output_layer).to(device)\n",
    "model.load_state_dict(model_state)\n",
    "model.eval()"
   ]
  },
  {
   "cell_type": "code",
   "execution_count": null,
   "metadata": {},
   "outputs": [
    {
     "name": "stdout",
     "output_type": "stream",
     "text": [
      "Let's chat! (type 'quit' to exit)\n",
      "\n",
      "If you want to become partner or looking for Job please write email to info@nila.se\n",
      "\n",
      "You: hi\n",
      "Nila: Hey :-)\n",
      "You: may i know the swish number\n",
      "Nila: The swish number is 1230099770 \n",
      "You: what is the customer support number\n",
      "Nila: You can contact the customer support 072 770 0345 by whatsapp  \n",
      "You: what product you have\n",
      "Nila:  Please look at our website nilagroceries.se\n",
      "You: ok \n",
      "Nila: Ok. any other questions?\n",
      "You: thanks\n",
      "Nila: Any time!\n"
     ]
    }
   ],
   "source": [
    "bot_name = \"Nila\"\n",
    "print(\"Let's chat! (type 'quit' to exit)\")\n",
    "print(\"\")\n",
    "print(\"If you want to become partner or looking for Job please write email to info@nila.se\")\n",
    "print(\"\")\n",
    "while True:\n",
    "    # sentence = \"do you use credit cards?\"\n",
    "    sentence = input(\"You: \")\n",
    "    if sentence == \"quit\":\n",
    "        break\n",
    "\n",
    "    sentence = tokenize_sentence(sentence)\n",
    "    X = bagOfWords(sentence, all_pattern_words)\n",
    "    X = X.reshape(1, X.shape[0])\n",
    "    X = torch.from_numpy(X).to(device)\n",
    "\n",
    "    output = model(X.float())\n",
    "    _, predicted = torch.max(output, dim=1)\n",
    "\n",
    "    tag = intents_tags[predicted.item()]\n",
    "\n",
    "    probs = torch.softmax(output, dim=1)\n",
    "    prob = probs[0][predicted.item()]\n",
    "#     print(probs)\n",
    "#     print(prob)\n",
    "#     print(predicted.item())\n",
    "#     print(prob.item())\n",
    "    if prob.item() > 0.9:\n",
    "        for intent in intents['intents']:\n",
    "            if tag == intent[\"tag\"]:\n",
    "                print(f\"{bot_name}: {random.choice(intent['responses'])}\")\n",
    "    else:\n",
    "        print(f'''{bot_name}: Thanks for contacting us. We've received your message and appreciate you reaching out. \n",
    "\n",
    "You can Whatsup us on +46727700345 for Order Enquires.''')"
   ]
  },
  {
   "cell_type": "code",
   "execution_count": null,
   "metadata": {},
   "outputs": [],
   "source": []
  }
 ],
 "metadata": {
  "kernelspec": {
   "display_name": "Python 3",
   "language": "python",
   "name": "python3"
  }
 },
 "nbformat": 4,
 "nbformat_minor": 4
}
